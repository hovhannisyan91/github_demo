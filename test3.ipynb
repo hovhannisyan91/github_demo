{
 "cells": [
  {
   "cell_type": "code",
   "execution_count": null,
   "id": "f6237e20",
   "metadata": {},
   "outputs": [],
   "source": [
    "import pandas as pd\n",
    "import sys"
   ]
  }
 ],
 "metadata": {
  "language_info": {
   "name": "python"
  }
 },
 "nbformat": 4,
 "nbformat_minor": 5
}
